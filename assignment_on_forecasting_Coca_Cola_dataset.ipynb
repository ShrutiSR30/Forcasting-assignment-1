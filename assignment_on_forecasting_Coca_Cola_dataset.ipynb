{
  "nbformat": 4,
  "nbformat_minor": 0,
  "metadata": {
    "kernelspec": {
      "display_name": "Python 3",
      "language": "python",
      "name": "python3"
    },
    "language_info": {
      "codemirror_mode": {
        "name": "ipython",
        "version": 3
      },
      "file_extension": ".py",
      "mimetype": "text/x-python",
      "name": "python",
      "nbconvert_exporter": "python",
      "pygments_lexer": "ipython3",
      "version": "3.8.5"
    },
    "colab": {
      "name": "assignment on forecasting Coca-Cola dataset.ipynb",
      "provenance": []
    }
  },
  "cells": [
    {
      "cell_type": "markdown",
      "metadata": {
        "id": "FvlXzOSyLzHN"
      },
      "source": [
        "## Forecast the CocaCola prices data set. Prepare a document for each model explaining \n",
        "how many dummy variables you have created and RMSE value for each model. Finally which model you will use for \n",
        "Forecasting."
      ]
    },
    {
      "cell_type": "code",
      "metadata": {
        "colab": {
          "base_uri": "https://localhost:8080/"
        },
        "id": "-Ko6dkwxL3pU",
        "outputId": "c395ea75-2443-45db-ef02-fd21cc1683d8"
      },
      "source": [
        "from google.colab import drive\n",
        "drive.mount('/content/drive')"
      ],
      "execution_count": 1,
      "outputs": [
        {
          "output_type": "stream",
          "name": "stdout",
          "text": [
            "Mounted at /content/drive\n"
          ]
        }
      ]
    },
    {
      "cell_type": "code",
      "metadata": {
        "colab": {
          "base_uri": "https://localhost:8080/"
        },
        "id": "IY5tr8BtLzHW",
        "outputId": "49b592d1-1467-4580-c3df-e7d20ca53b62"
      },
      "source": [
        "import pandas as pd \n",
        "import numpy as np \n",
        "import seaborn as sns \n",
        "import matplotlib.pyplot as plt \n",
        "from pandas.plotting import lag_plot\n",
        "import warnings\n",
        "import statsmodels.formula.api as smf"
      ],
      "execution_count": 2,
      "outputs": [
        {
          "output_type": "stream",
          "name": "stderr",
          "text": [
            "/usr/local/lib/python3.7/dist-packages/statsmodels/tools/_testing.py:19: FutureWarning: pandas.util.testing is deprecated. Use the functions in the public API at pandas.testing instead.\n",
            "  import pandas.util.testing as tm\n"
          ]
        }
      ]
    },
    {
      "cell_type": "code",
      "metadata": {
        "colab": {
          "base_uri": "https://localhost:8080/",
          "height": 204
        },
        "id": "xXjwuDp-LzHZ",
        "outputId": "3ad42587-c803-4f38-aae7-676644cce0cf"
      },
      "source": [
        "data=pd.read_excel('/content/drive/MyDrive/Colab Notebooks/CocaCola_Sales_Rawdata.xlsx')\n",
        "data.head()"
      ],
      "execution_count": 3,
      "outputs": [
        {
          "output_type": "execute_result",
          "data": {
            "text/html": [
              "<div>\n",
              "<style scoped>\n",
              "    .dataframe tbody tr th:only-of-type {\n",
              "        vertical-align: middle;\n",
              "    }\n",
              "\n",
              "    .dataframe tbody tr th {\n",
              "        vertical-align: top;\n",
              "    }\n",
              "\n",
              "    .dataframe thead th {\n",
              "        text-align: right;\n",
              "    }\n",
              "</style>\n",
              "<table border=\"1\" class=\"dataframe\">\n",
              "  <thead>\n",
              "    <tr style=\"text-align: right;\">\n",
              "      <th></th>\n",
              "      <th>Quarter</th>\n",
              "      <th>Sales</th>\n",
              "    </tr>\n",
              "  </thead>\n",
              "  <tbody>\n",
              "    <tr>\n",
              "      <th>0</th>\n",
              "      <td>Q1_86</td>\n",
              "      <td>1734.827000</td>\n",
              "    </tr>\n",
              "    <tr>\n",
              "      <th>1</th>\n",
              "      <td>Q2_86</td>\n",
              "      <td>2244.960999</td>\n",
              "    </tr>\n",
              "    <tr>\n",
              "      <th>2</th>\n",
              "      <td>Q3_86</td>\n",
              "      <td>2533.804993</td>\n",
              "    </tr>\n",
              "    <tr>\n",
              "      <th>3</th>\n",
              "      <td>Q4_86</td>\n",
              "      <td>2154.962997</td>\n",
              "    </tr>\n",
              "    <tr>\n",
              "      <th>4</th>\n",
              "      <td>Q1_87</td>\n",
              "      <td>1547.818996</td>\n",
              "    </tr>\n",
              "  </tbody>\n",
              "</table>\n",
              "</div>"
            ],
            "text/plain": [
              "  Quarter        Sales\n",
              "0   Q1_86  1734.827000\n",
              "1   Q2_86  2244.960999\n",
              "2   Q3_86  2533.804993\n",
              "3   Q4_86  2154.962997\n",
              "4   Q1_87  1547.818996"
            ]
          },
          "metadata": {},
          "execution_count": 3
        }
      ]
    },
    {
      "cell_type": "code",
      "metadata": {
        "colab": {
          "base_uri": "https://localhost:8080/",
          "height": 297
        },
        "id": "V1z5UUNNLzHd",
        "outputId": "b9280b68-ae12-4235-ccbc-89dbd3a6631b"
      },
      "source": [
        "data.describe()"
      ],
      "execution_count": 4,
      "outputs": [
        {
          "output_type": "execute_result",
          "data": {
            "text/html": [
              "<div>\n",
              "<style scoped>\n",
              "    .dataframe tbody tr th:only-of-type {\n",
              "        vertical-align: middle;\n",
              "    }\n",
              "\n",
              "    .dataframe tbody tr th {\n",
              "        vertical-align: top;\n",
              "    }\n",
              "\n",
              "    .dataframe thead th {\n",
              "        text-align: right;\n",
              "    }\n",
              "</style>\n",
              "<table border=\"1\" class=\"dataframe\">\n",
              "  <thead>\n",
              "    <tr style=\"text-align: right;\">\n",
              "      <th></th>\n",
              "      <th>Sales</th>\n",
              "    </tr>\n",
              "  </thead>\n",
              "  <tbody>\n",
              "    <tr>\n",
              "      <th>count</th>\n",
              "      <td>42.000000</td>\n",
              "    </tr>\n",
              "    <tr>\n",
              "      <th>mean</th>\n",
              "      <td>2994.353308</td>\n",
              "    </tr>\n",
              "    <tr>\n",
              "      <th>std</th>\n",
              "      <td>977.930896</td>\n",
              "    </tr>\n",
              "    <tr>\n",
              "      <th>min</th>\n",
              "      <td>1547.818996</td>\n",
              "    </tr>\n",
              "    <tr>\n",
              "      <th>25%</th>\n",
              "      <td>2159.714247</td>\n",
              "    </tr>\n",
              "    <tr>\n",
              "      <th>50%</th>\n",
              "      <td>2782.376999</td>\n",
              "    </tr>\n",
              "    <tr>\n",
              "      <th>75%</th>\n",
              "      <td>3609.250000</td>\n",
              "    </tr>\n",
              "    <tr>\n",
              "      <th>max</th>\n",
              "      <td>5253.000000</td>\n",
              "    </tr>\n",
              "  </tbody>\n",
              "</table>\n",
              "</div>"
            ],
            "text/plain": [
              "             Sales\n",
              "count    42.000000\n",
              "mean   2994.353308\n",
              "std     977.930896\n",
              "min    1547.818996\n",
              "25%    2159.714247\n",
              "50%    2782.376999\n",
              "75%    3609.250000\n",
              "max    5253.000000"
            ]
          },
          "metadata": {},
          "execution_count": 4
        }
      ]
    },
    {
      "cell_type": "code",
      "metadata": {
        "colab": {
          "base_uri": "https://localhost:8080/"
        },
        "id": "dlIs5QGCLzHe",
        "outputId": "fbcbd129-0be2-4e1f-9824-2bc03b45025f"
      },
      "source": [
        "data.isna().sum()"
      ],
      "execution_count": 5,
      "outputs": [
        {
          "output_type": "execute_result",
          "data": {
            "text/plain": [
              "Quarter    0\n",
              "Sales      0\n",
              "dtype: int64"
            ]
          },
          "metadata": {},
          "execution_count": 5
        }
      ]
    },
    {
      "cell_type": "markdown",
      "metadata": {
        "id": "hvH_tfWxLzHf"
      },
      "source": [
        "### Data Visualization"
      ]
    },
    {
      "cell_type": "code",
      "metadata": {
        "id": "apxCKeVALzHh"
      },
      "source": [
        "data_vis=pd.read_excel('/content/drive/MyDrive/Colab Notebooks/CocaCola_Sales_Rawdata.xlsx',header=0,index_col=0,parse_dates=None,squeeze=True)"
      ],
      "execution_count": 6,
      "outputs": []
    },
    {
      "cell_type": "code",
      "metadata": {
        "colab": {
          "base_uri": "https://localhost:8080/",
          "height": 297
        },
        "id": "qX33iHN7LzHj",
        "outputId": "ca28fd1e-eded-44bd-e899-da41a2144930"
      },
      "source": [
        "data_vis.plot()"
      ],
      "execution_count": 7,
      "outputs": [
        {
          "output_type": "execute_result",
          "data": {
            "text/plain": [
              "<matplotlib.axes._subplots.AxesSubplot at 0x7f52ca0b5250>"
            ]
          },
          "metadata": {},
          "execution_count": 7
        },
        {
          "output_type": "display_data",
          "data": {
            "image/png": "[encoded data removed]",
            "text/plain": [
              "<Figure size 432x288 with 1 Axes>"
            ]
          },
          "metadata": {
            "needs_background": "light"
          }
        }
      ]
    },
    {
      "cell_type": "code",
      "metadata": {
        "colab": {
          "base_uri": "https://localhost:8080/",
          "height": 350
        },
        "id": "bxsYjDVBLzHl",
        "outputId": "40b93db2-9532-449a-cb5e-8ac0318b43d7"
      },
      "source": [
        "plt.hist(data_vis)"
      ],
      "execution_count": 8,
      "outputs": [
        {
          "output_type": "execute_result",
          "data": {
            "text/plain": [
              "(array([ 4., 10.,  5.,  4.,  6.,  3.,  3.,  4.,  0.,  3.]),\n",
              " array([1547.81899643, 1918.33709679, 2288.85519714, 2659.3732975 ,\n",
              "        3029.89139786, 3400.40949821, 3770.92759857, 4141.44569893,\n",
              "        4511.96379929, 4882.48189964, 5253.        ]),\n",
              " <a list of 10 Patch objects>)"
            ]
          },
          "metadata": {},
          "execution_count": 8
        },
        {
          "output_type": "display_data",
          "data": {
            "image/png": "[encoded data removed]",
            "text/plain": [
              "<Figure size 432x288 with 1 Axes>"
            ]
          },
          "metadata": {
            "needs_background": "light"
          }
        }
      ]
    },
    {
      "cell_type": "code",
      "metadata": {
        "colab": {
          "base_uri": "https://localhost:8080/",
          "height": 282
        },
        "id": "X_bykJBYLzHn",
        "outputId": "3c526b94-961a-491e-dd76-df43756a57e9"
      },
      "source": [
        "data_vis.plot(kind='kde')"
      ],
      "execution_count": 9,
      "outputs": [
        {
          "output_type": "execute_result",
          "data": {
            "text/plain": [
              "<matplotlib.axes._subplots.AxesSubplot at 0x7f52c9ae21d0>"
            ]
          },
          "metadata": {},
          "execution_count": 9
        },
        {
          "output_type": "display_data",
          "data": {
            "image/png": "[encoded data removed]",
            "text/plain": [
              "<Figure size 432x288 with 1 Axes>"
            ]
          },
          "metadata": {
            "needs_background": "light"
          }
        }
      ]
    },
    {
      "cell_type": "code",
      "metadata": {
        "colab": {
          "base_uri": "https://localhost:8080/",
          "height": 296
        },
        "id": "X6LTJp2ZLzHo",
        "outputId": "246d357e-def1-4cff-9471-73e999651ea6"
      },
      "source": [
        "lag_plot(data_vis)"
      ],
      "execution_count": 10,
      "outputs": [
        {
          "output_type": "execute_result",
          "data": {
            "text/plain": [
              "<matplotlib.axes._subplots.AxesSubplot at 0x7f52c9aaef50>"
            ]
          },
          "metadata": {},
          "execution_count": 10
        },
        {
          "output_type": "display_data",
          "data": {
            "image/png": "[encoded data removed]",
            "text/plain": [
              "<Figure size 432x288 with 1 Axes>"
            ]
          },
          "metadata": {
            "needs_background": "light"
          }
        }
      ]
    },
    {
      "cell_type": "markdown",
      "metadata": {
        "id": "RFUZ0PdKLzHp"
      },
      "source": [
        "# model building "
      ]
    },
    {
      "cell_type": "code",
      "metadata": {
        "colab": {
          "base_uri": "https://localhost:8080/",
          "height": 459
        },
        "id": "30reG22GLzHr",
        "outputId": "d662b36a-fee8-413b-b2da-ab5a47d772a8"
      },
      "source": [
        "data['Quarters']= 0\n",
        "data['Year'] = 0\n",
        "for i in range(42):\n",
        "    p = data[\"Quarter\"][i]\n",
        "    data['Quarters'][i]= p[0:2]\n",
        "    data['Year'][i]= p[3:5]\n",
        "data.head()"
      ],
      "execution_count": 11,
      "outputs": [
        {
          "output_type": "stream",
          "name": "stderr",
          "text": [
            "/usr/local/lib/python3.7/dist-packages/ipykernel_launcher.py:5: SettingWithCopyWarning: \n",
            "A value is trying to be set on a copy of a slice from a DataFrame\n",
            "\n",
            "See the caveats in the documentation: https://pandas.pydata.org/pandas-docs/stable/user_guide/indexing.html#returning-a-view-versus-a-copy\n",
            "  \"\"\"\n",
            "/usr/local/lib/python3.7/dist-packages/pandas/core/indexing.py:670: SettingWithCopyWarning: \n",
            "A value is trying to be set on a copy of a slice from a DataFrame\n",
            "\n",
            "See the caveats in the documentation: https://pandas.pydata.org/pandas-docs/stable/user_guide/indexing.html#returning-a-view-versus-a-copy\n",
            "  iloc._setitem_with_indexer(indexer, value)\n",
            "/usr/local/lib/python3.7/dist-packages/ipykernel_launcher.py:6: SettingWithCopyWarning: \n",
            "A value is trying to be set on a copy of a slice from a DataFrame\n",
            "\n",
            "See the caveats in the documentation: https://pandas.pydata.org/pandas-docs/stable/user_guide/indexing.html#returning-a-view-versus-a-copy\n",
            "  \n"
          ]
        },
        {
          "output_type": "execute_result",
          "data": {
            "text/html": [
              "<div>\n",
              "<style scoped>\n",
              "    .dataframe tbody tr th:only-of-type {\n",
              "        vertical-align: middle;\n",
              "    }\n",
              "\n",
              "    .dataframe tbody tr th {\n",
              "        vertical-align: top;\n",
              "    }\n",
              "\n",
              "    .dataframe thead th {\n",
              "        text-align: right;\n",
              "    }\n",
              "</style>\n",
              "<table border=\"1\" class=\"dataframe\">\n",
              "  <thead>\n",
              "    <tr style=\"text-align: right;\">\n",
              "      <th></th>\n",
              "      <th>Quarter</th>\n",
              "      <th>Sales</th>\n",
              "      <th>Quarters</th>\n",
              "      <th>Year</th>\n",
              "    </tr>\n",
              "  </thead>\n",
              "  <tbody>\n",
              "    <tr>\n",
              "      <th>0</th>\n",
              "      <td>Q1_86</td>\n",
              "      <td>1734.827000</td>\n",
              "      <td>Q1</td>\n",
              "      <td>86</td>\n",
              "    </tr>\n",
              "    <tr>\n",
              "      <th>1</th>\n",
              "      <td>Q2_86</td>\n",
              "      <td>2244.960999</td>\n",
              "      <td>Q2</td>\n",
              "      <td>86</td>\n",
              "    </tr>\n",
              "    <tr>\n",
              "      <th>2</th>\n",
              "      <td>Q3_86</td>\n",
              "      <td>2533.804993</td>\n",
              "      <td>Q3</td>\n",
              "      <td>86</td>\n",
              "    </tr>\n",
              "    <tr>\n",
              "      <th>3</th>\n",
              "      <td>Q4_86</td>\n",
              "      <td>2154.962997</td>\n",
              "      <td>Q4</td>\n",
              "      <td>86</td>\n",
              "    </tr>\n",
              "    <tr>\n",
              "      <th>4</th>\n",
              "      <td>Q1_87</td>\n",
              "      <td>1547.818996</td>\n",
              "      <td>Q1</td>\n",
              "      <td>87</td>\n",
              "    </tr>\n",
              "  </tbody>\n",
              "</table>\n",
              "</div>"
            ],
            "text/plain": [
              "  Quarter        Sales Quarters  Year\n",
              "0   Q1_86  1734.827000       Q1    86\n",
              "1   Q2_86  2244.960999       Q2    86\n",
              "2   Q3_86  2533.804993       Q3    86\n",
              "3   Q4_86  2154.962997       Q4    86\n",
              "4   Q1_87  1547.818996       Q1    87"
            ]
          },
          "metadata": {},
          "execution_count": 11
        }
      ]
    },
    {
      "cell_type": "code",
      "metadata": {
        "colab": {
          "base_uri": "https://localhost:8080/",
          "height": 204
        },
        "id": "Vw_Zfo3BLzHs",
        "outputId": "69ef54d5-e2cc-4d02-fbd2-c7cb4c8165e3"
      },
      "source": [
        "quater_dumies=pd.DataFrame(pd.get_dummies(data.Quarters))\n",
        "quater_dumies.head()"
      ],
      "execution_count": 12,
      "outputs": [
        {
          "output_type": "execute_result",
          "data": {
            "text/html": [
              "<div>\n",
              "<style scoped>\n",
              "    .dataframe tbody tr th:only-of-type {\n",
              "        vertical-align: middle;\n",
              "    }\n",
              "\n",
              "    .dataframe tbody tr th {\n",
              "        vertical-align: top;\n",
              "    }\n",
              "\n",
              "    .dataframe thead th {\n",
              "        text-align: right;\n",
              "    }\n",
              "</style>\n",
              "<table border=\"1\" class=\"dataframe\">\n",
              "  <thead>\n",
              "    <tr style=\"text-align: right;\">\n",
              "      <th></th>\n",
              "      <th>Q1</th>\n",
              "      <th>Q2</th>\n",
              "      <th>Q3</th>\n",
              "      <th>Q4</th>\n",
              "    </tr>\n",
              "  </thead>\n",
              "  <tbody>\n",
              "    <tr>\n",
              "      <th>0</th>\n",
              "      <td>1</td>\n",
              "      <td>0</td>\n",
              "      <td>0</td>\n",
              "      <td>0</td>\n",
              "    </tr>\n",
              "    <tr>\n",
              "      <th>1</th>\n",
              "      <td>0</td>\n",
              "      <td>1</td>\n",
              "      <td>0</td>\n",
              "      <td>0</td>\n",
              "    </tr>\n",
              "    <tr>\n",
              "      <th>2</th>\n",
              "      <td>0</td>\n",
              "      <td>0</td>\n",
              "      <td>1</td>\n",
              "      <td>0</td>\n",
              "    </tr>\n",
              "    <tr>\n",
              "      <th>3</th>\n",
              "      <td>0</td>\n",
              "      <td>0</td>\n",
              "      <td>0</td>\n",
              "      <td>1</td>\n",
              "    </tr>\n",
              "    <tr>\n",
              "      <th>4</th>\n",
              "      <td>1</td>\n",
              "      <td>0</td>\n",
              "      <td>0</td>\n",
              "      <td>0</td>\n",
              "    </tr>\n",
              "  </tbody>\n",
              "</table>\n",
              "</div>"
            ],
            "text/plain": [
              "   Q1  Q2  Q3  Q4\n",
              "0   1   0   0   0\n",
              "1   0   1   0   0\n",
              "2   0   0   1   0\n",
              "3   0   0   0   1\n",
              "4   1   0   0   0"
            ]
          },
          "metadata": {},
          "execution_count": 12
        }
      ]
    },
    {
      "cell_type": "code",
      "metadata": {
        "colab": {
          "base_uri": "https://localhost:8080/",
          "height": 204
        },
        "id": "w-MqzkWFLzHu",
        "outputId": "3304fc4b-1865-4e5e-e9d2-ec272c3592fa"
      },
      "source": [
        "data=pd.concat([data,quater_dumies],axis=1)\n",
        "data.head()"
      ],
      "execution_count": 13,
      "outputs": [
        {
          "output_type": "execute_result",
          "data": {
            "text/html": [
              "<div>\n",
              "<style scoped>\n",
              "    .dataframe tbody tr th:only-of-type {\n",
              "        vertical-align: middle;\n",
              "    }\n",
              "\n",
              "    .dataframe tbody tr th {\n",
              "        vertical-align: top;\n",
              "    }\n",
              "\n",
              "    .dataframe thead th {\n",
              "        text-align: right;\n",
              "    }\n",
              "</style>\n",
              "<table border=\"1\" class=\"dataframe\">\n",
              "  <thead>\n",
              "    <tr style=\"text-align: right;\">\n",
              "      <th></th>\n",
              "      <th>Quarter</th>\n",
              "      <th>Sales</th>\n",
              "      <th>Quarters</th>\n",
              "      <th>Year</th>\n",
              "      <th>Q1</th>\n",
              "      <th>Q2</th>\n",
              "      <th>Q3</th>\n",
              "      <th>Q4</th>\n",
              "    </tr>\n",
              "  </thead>\n",
              "  <tbody>\n",
              "    <tr>\n",
              "      <th>0</th>\n",
              "      <td>Q1_86</td>\n",
              "      <td>1734.827000</td>\n",
              "      <td>Q1</td>\n",
              "      <td>86</td>\n",
              "      <td>1</td>\n",
              "      <td>0</td>\n",
              "      <td>0</td>\n",
              "      <td>0</td>\n",
              "    </tr>\n",
              "    <tr>\n",
              "      <th>1</th>\n",
              "      <td>Q2_86</td>\n",
              "      <td>2244.960999</td>\n",
              "      <td>Q2</td>\n",
              "      <td>86</td>\n",
              "      <td>0</td>\n",
              "      <td>1</td>\n",
              "      <td>0</td>\n",
              "      <td>0</td>\n",
              "    </tr>\n",
              "    <tr>\n",
              "      <th>2</th>\n",
              "      <td>Q3_86</td>\n",
              "      <td>2533.804993</td>\n",
              "      <td>Q3</td>\n",
              "      <td>86</td>\n",
              "      <td>0</td>\n",
              "      <td>0</td>\n",
              "      <td>1</td>\n",
              "      <td>0</td>\n",
              "    </tr>\n",
              "    <tr>\n",
              "      <th>3</th>\n",
              "      <td>Q4_86</td>\n",
              "      <td>2154.962997</td>\n",
              "      <td>Q4</td>\n",
              "      <td>86</td>\n",
              "      <td>0</td>\n",
              "      <td>0</td>\n",
              "      <td>0</td>\n",
              "      <td>1</td>\n",
              "    </tr>\n",
              "    <tr>\n",
              "      <th>4</th>\n",
              "      <td>Q1_87</td>\n",
              "      <td>1547.818996</td>\n",
              "      <td>Q1</td>\n",
              "      <td>87</td>\n",
              "      <td>1</td>\n",
              "      <td>0</td>\n",
              "      <td>0</td>\n",
              "      <td>0</td>\n",
              "    </tr>\n",
              "  </tbody>\n",
              "</table>\n",
              "</div>"
            ],
            "text/plain": [
              "  Quarter        Sales Quarters  Year  Q1  Q2  Q3  Q4\n",
              "0   Q1_86  1734.827000       Q1    86   1   0   0   0\n",
              "1   Q2_86  2244.960999       Q2    86   0   1   0   0\n",
              "2   Q3_86  2533.804993       Q3    86   0   0   1   0\n",
              "3   Q4_86  2154.962997       Q4    86   0   0   0   1\n",
              "4   Q1_87  1547.818996       Q1    87   1   0   0   0"
            ]
          },
          "metadata": {},
          "execution_count": 13
        }
      ]
    },
    {
      "cell_type": "code",
      "metadata": {
        "colab": {
          "base_uri": "https://localhost:8080/",
          "height": 204
        },
        "id": "R5HHph4ALzHv",
        "outputId": "d641fa91-f775-4f69-e2af-41159b43a888"
      },
      "source": [
        "data['t']=range(1,43)\n",
        "data.head()"
      ],
      "execution_count": 14,
      "outputs": [
        {
          "output_type": "execute_result",
          "data": {
            "text/html": [
              "<div>\n",
              "<style scoped>\n",
              "    .dataframe tbody tr th:only-of-type {\n",
              "        vertical-align: middle;\n",
              "    }\n",
              "\n",
              "    .dataframe tbody tr th {\n",
              "        vertical-align: top;\n",
              "    }\n",
              "\n",
              "    .dataframe thead th {\n",
              "        text-align: right;\n",
              "    }\n",
              "</style>\n",
              "<table border=\"1\" class=\"dataframe\">\n",
              "  <thead>\n",
              "    <tr style=\"text-align: right;\">\n",
              "      <th></th>\n",
              "      <th>Quarter</th>\n",
              "      <th>Sales</th>\n",
              "      <th>Quarters</th>\n",
              "      <th>Year</th>\n",
              "      <th>Q1</th>\n",
              "      <th>Q2</th>\n",
              "      <th>Q3</th>\n",
              "      <th>Q4</th>\n",
              "      <th>t</th>\n",
              "    </tr>\n",
              "  </thead>\n",
              "  <tbody>\n",
              "    <tr>\n",
              "      <th>0</th>\n",
              "      <td>Q1_86</td>\n",
              "      <td>1734.827000</td>\n",
              "      <td>Q1</td>\n",
              "      <td>86</td>\n",
              "      <td>1</td>\n",
              "      <td>0</td>\n",
              "      <td>0</td>\n",
              "      <td>0</td>\n",
              "      <td>1</td>\n",
              "    </tr>\n",
              "    <tr>\n",
              "      <th>1</th>\n",
              "      <td>Q2_86</td>\n",
              "      <td>2244.960999</td>\n",
              "      <td>Q2</td>\n",
              "      <td>86</td>\n",
              "      <td>0</td>\n",
              "      <td>1</td>\n",
              "      <td>0</td>\n",
              "      <td>0</td>\n",
              "      <td>2</td>\n",
              "    </tr>\n",
              "    <tr>\n",
              "      <th>2</th>\n",
              "      <td>Q3_86</td>\n",
              "      <td>2533.804993</td>\n",
              "      <td>Q3</td>\n",
              "      <td>86</td>\n",
              "      <td>0</td>\n",
              "      <td>0</td>\n",
              "      <td>1</td>\n",
              "      <td>0</td>\n",
              "      <td>3</td>\n",
              "    </tr>\n",
              "    <tr>\n",
              "      <th>3</th>\n",
              "      <td>Q4_86</td>\n",
              "      <td>2154.962997</td>\n",
              "      <td>Q4</td>\n",
              "      <td>86</td>\n",
              "      <td>0</td>\n",
              "      <td>0</td>\n",
              "      <td>0</td>\n",
              "      <td>1</td>\n",
              "      <td>4</td>\n",
              "    </tr>\n",
              "    <tr>\n",
              "      <th>4</th>\n",
              "      <td>Q1_87</td>\n",
              "      <td>1547.818996</td>\n",
              "      <td>Q1</td>\n",
              "      <td>87</td>\n",
              "      <td>1</td>\n",
              "      <td>0</td>\n",
              "      <td>0</td>\n",
              "      <td>0</td>\n",
              "      <td>5</td>\n",
              "    </tr>\n",
              "  </tbody>\n",
              "</table>\n",
              "</div>"
            ],
            "text/plain": [
              "  Quarter        Sales Quarters  Year  Q1  Q2  Q3  Q4  t\n",
              "0   Q1_86  1734.827000       Q1    86   1   0   0   0  1\n",
              "1   Q2_86  2244.960999       Q2    86   0   1   0   0  2\n",
              "2   Q3_86  2533.804993       Q3    86   0   0   1   0  3\n",
              "3   Q4_86  2154.962997       Q4    86   0   0   0   1  4\n",
              "4   Q1_87  1547.818996       Q1    87   1   0   0   0  5"
            ]
          },
          "metadata": {},
          "execution_count": 14
        }
      ]
    },
    {
      "cell_type": "code",
      "metadata": {
        "colab": {
          "base_uri": "https://localhost:8080/",
          "height": 204
        },
        "id": "R7ocy33yLzHw",
        "outputId": "c100818b-b097-4523-b4af-bc6a19548161"
      },
      "source": [
        "data['t_squared']=data.t*data.t\n",
        "data.head()"
      ],
      "execution_count": 15,
      "outputs": [
        {
          "output_type": "execute_result",
          "data": {
            "text/html": [
              "<div>\n",
              "<style scoped>\n",
              "    .dataframe tbody tr th:only-of-type {\n",
              "        vertical-align: middle;\n",
              "    }\n",
              "\n",
              "    .dataframe tbody tr th {\n",
              "        vertical-align: top;\n",
              "    }\n",
              "\n",
              "    .dataframe thead th {\n",
              "        text-align: right;\n",
              "    }\n",
              "</style>\n",
              "<table border=\"1\" class=\"dataframe\">\n",
              "  <thead>\n",
              "    <tr style=\"text-align: right;\">\n",
              "      <th></th>\n",
              "      <th>Quarter</th>\n",
              "      <th>Sales</th>\n",
              "      <th>Quarters</th>\n",
              "      <th>Year</th>\n",
              "      <th>Q1</th>\n",
              "      <th>Q2</th>\n",
              "      <th>Q3</th>\n",
              "      <th>Q4</th>\n",
              "      <th>t</th>\n",
              "      <th>t_squared</th>\n",
              "    </tr>\n",
              "  </thead>\n",
              "  <tbody>\n",
              "    <tr>\n",
              "      <th>0</th>\n",
              "      <td>Q1_86</td>\n",
              "      <td>1734.827000</td>\n",
              "      <td>Q1</td>\n",
              "      <td>86</td>\n",
              "      <td>1</td>\n",
              "      <td>0</td>\n",
              "      <td>0</td>\n",
              "      <td>0</td>\n",
              "      <td>1</td>\n",
              "      <td>1</td>\n",
              "    </tr>\n",
              "    <tr>\n",
              "      <th>1</th>\n",
              "      <td>Q2_86</td>\n",
              "      <td>2244.960999</td>\n",
              "      <td>Q2</td>\n",
              "      <td>86</td>\n",
              "      <td>0</td>\n",
              "      <td>1</td>\n",
              "      <td>0</td>\n",
              "      <td>0</td>\n",
              "      <td>2</td>\n",
              "      <td>4</td>\n",
              "    </tr>\n",
              "    <tr>\n",
              "      <th>2</th>\n",
              "      <td>Q3_86</td>\n",
              "      <td>2533.804993</td>\n",
              "      <td>Q3</td>\n",
              "      <td>86</td>\n",
              "      <td>0</td>\n",
              "      <td>0</td>\n",
              "      <td>1</td>\n",
              "      <td>0</td>\n",
              "      <td>3</td>\n",
              "      <td>9</td>\n",
              "    </tr>\n",
              "    <tr>\n",
              "      <th>3</th>\n",
              "      <td>Q4_86</td>\n",
              "      <td>2154.962997</td>\n",
              "      <td>Q4</td>\n",
              "      <td>86</td>\n",
              "      <td>0</td>\n",
              "      <td>0</td>\n",
              "      <td>0</td>\n",
              "      <td>1</td>\n",
              "      <td>4</td>\n",
              "      <td>16</td>\n",
              "    </tr>\n",
              "    <tr>\n",
              "      <th>4</th>\n",
              "      <td>Q1_87</td>\n",
              "      <td>1547.818996</td>\n",
              "      <td>Q1</td>\n",
              "      <td>87</td>\n",
              "      <td>1</td>\n",
              "      <td>0</td>\n",
              "      <td>0</td>\n",
              "      <td>0</td>\n",
              "      <td>5</td>\n",
              "      <td>25</td>\n",
              "    </tr>\n",
              "  </tbody>\n",
              "</table>\n",
              "</div>"
            ],
            "text/plain": [
              "  Quarter        Sales Quarters  Year  Q1  Q2  Q3  Q4  t  t_squared\n",
              "0   Q1_86  1734.827000       Q1    86   1   0   0   0  1          1\n",
              "1   Q2_86  2244.960999       Q2    86   0   1   0   0  2          4\n",
              "2   Q3_86  2533.804993       Q3    86   0   0   1   0  3          9\n",
              "3   Q4_86  2154.962997       Q4    86   0   0   0   1  4         16\n",
              "4   Q1_87  1547.818996       Q1    87   1   0   0   0  5         25"
            ]
          },
          "metadata": {},
          "execution_count": 15
        }
      ]
    },
    {
      "cell_type": "code",
      "metadata": {
        "colab": {
          "base_uri": "https://localhost:8080/",
          "height": 204
        },
        "id": "9oDw3EybLzHw",
        "outputId": "bb0cc25a-5cbd-4682-df06-b74c2c5c16a7"
      },
      "source": [
        "data['log_Sales']=np.log(data.Sales)\n",
        "data.head()"
      ],
      "execution_count": 16,
      "outputs": [
        {
          "output_type": "execute_result",
          "data": {
            "text/html": [
              "<div>\n",
              "<style scoped>\n",
              "    .dataframe tbody tr th:only-of-type {\n",
              "        vertical-align: middle;\n",
              "    }\n",
              "\n",
              "    .dataframe tbody tr th {\n",
              "        vertical-align: top;\n",
              "    }\n",
              "\n",
              "    .dataframe thead th {\n",
              "        text-align: right;\n",
              "    }\n",
              "</style>\n",
              "<table border=\"1\" class=\"dataframe\">\n",
              "  <thead>\n",
              "    <tr style=\"text-align: right;\">\n",
              "      <th></th>\n",
              "      <th>Quarter</th>\n",
              "      <th>Sales</th>\n",
              "      <th>Quarters</th>\n",
              "      <th>Year</th>\n",
              "      <th>Q1</th>\n",
              "      <th>Q2</th>\n",
              "      <th>Q3</th>\n",
              "      <th>Q4</th>\n",
              "      <th>t</th>\n",
              "      <th>t_squared</th>\n",
              "      <th>log_Sales</th>\n",
              "    </tr>\n",
              "  </thead>\n",
              "  <tbody>\n",
              "    <tr>\n",
              "      <th>0</th>\n",
              "      <td>Q1_86</td>\n",
              "      <td>1734.827000</td>\n",
              "      <td>Q1</td>\n",
              "      <td>86</td>\n",
              "      <td>1</td>\n",
              "      <td>0</td>\n",
              "      <td>0</td>\n",
              "      <td>0</td>\n",
              "      <td>1</td>\n",
              "      <td>1</td>\n",
              "      <td>7.458663</td>\n",
              "    </tr>\n",
              "    <tr>\n",
              "      <th>1</th>\n",
              "      <td>Q2_86</td>\n",
              "      <td>2244.960999</td>\n",
              "      <td>Q2</td>\n",
              "      <td>86</td>\n",
              "      <td>0</td>\n",
              "      <td>1</td>\n",
              "      <td>0</td>\n",
              "      <td>0</td>\n",
              "      <td>2</td>\n",
              "      <td>4</td>\n",
              "      <td>7.716443</td>\n",
              "    </tr>\n",
              "    <tr>\n",
              "      <th>2</th>\n",
              "      <td>Q3_86</td>\n",
              "      <td>2533.804993</td>\n",
              "      <td>Q3</td>\n",
              "      <td>86</td>\n",
              "      <td>0</td>\n",
              "      <td>0</td>\n",
              "      <td>1</td>\n",
              "      <td>0</td>\n",
              "      <td>3</td>\n",
              "      <td>9</td>\n",
              "      <td>7.837477</td>\n",
              "    </tr>\n",
              "    <tr>\n",
              "      <th>3</th>\n",
              "      <td>Q4_86</td>\n",
              "      <td>2154.962997</td>\n",
              "      <td>Q4</td>\n",
              "      <td>86</td>\n",
              "      <td>0</td>\n",
              "      <td>0</td>\n",
              "      <td>0</td>\n",
              "      <td>1</td>\n",
              "      <td>4</td>\n",
              "      <td>16</td>\n",
              "      <td>7.675529</td>\n",
              "    </tr>\n",
              "    <tr>\n",
              "      <th>4</th>\n",
              "      <td>Q1_87</td>\n",
              "      <td>1547.818996</td>\n",
              "      <td>Q1</td>\n",
              "      <td>87</td>\n",
              "      <td>1</td>\n",
              "      <td>0</td>\n",
              "      <td>0</td>\n",
              "      <td>0</td>\n",
              "      <td>5</td>\n",
              "      <td>25</td>\n",
              "      <td>7.344602</td>\n",
              "    </tr>\n",
              "  </tbody>\n",
              "</table>\n",
              "</div>"
            ],
            "text/plain": [
              "  Quarter        Sales Quarters  Year  Q1  Q2  Q3  Q4  t  t_squared  log_Sales\n",
              "0   Q1_86  1734.827000       Q1    86   1   0   0   0  1          1   7.458663\n",
              "1   Q2_86  2244.960999       Q2    86   0   1   0   0  2          4   7.716443\n",
              "2   Q3_86  2533.804993       Q3    86   0   0   1   0  3          9   7.837477\n",
              "3   Q4_86  2154.962997       Q4    86   0   0   0   1  4         16   7.675529\n",
              "4   Q1_87  1547.818996       Q1    87   1   0   0   0  5         25   7.344602"
            ]
          },
          "metadata": {},
          "execution_count": 16
        }
      ]
    },
    {
      "cell_type": "code",
      "metadata": {
        "colab": {
          "base_uri": "https://localhost:8080/",
          "height": 623
        },
        "id": "FKhCDmV1LzHx",
        "outputId": "3e26c422-13b6-4579-b672-7919b86ce137"
      },
      "source": [
        "plt.figure(figsize=(12,10))\n",
        "plot_month_y = pd.pivot_table(data =data,values=\"Sales\",index=\"Year\",columns=\"Quarters\",aggfunc=\"mean\",fill_value=0)\n",
        "sns.heatmap(plot_month_y,annot=True,fmt = \"g\")"
      ],
      "execution_count": 17,
      "outputs": [
        {
          "output_type": "execute_result",
          "data": {
            "text/plain": [
              "<matplotlib.axes._subplots.AxesSubplot at 0x7f52c79b70d0>"
            ]
          },
          "metadata": {},
          "execution_count": 17
        },
        {
          "output_type": "display_data",
          "data": {
            "image/png": "[encoded data removed]",
            "text/plain": [
              "<Figure size 864x720 with 2 Axes>"
            ]
          },
          "metadata": {
            "needs_background": "light"
          }
        }
      ]
    },
    {
      "cell_type": "code",
      "metadata": {
        "colab": {
          "base_uri": "https://localhost:8080/",
          "height": 296
        },
        "id": "7-rzpYfXLzHy",
        "outputId": "8d6b3779-2633-4c2d-dddb-7840ecda6059"
      },
      "source": [
        "sns.boxplot(x='Quarters',y='Sales',data=data)"
      ],
      "execution_count": 18,
      "outputs": [
        {
          "output_type": "execute_result",
          "data": {
            "text/plain": [
              "<matplotlib.axes._subplots.AxesSubplot at 0x7f52c79cead0>"
            ]
          },
          "metadata": {},
          "execution_count": 18
        },
        {
          "output_type": "display_data",
          "data": {
            "image/png": "[encoded data removed]",
            "text/plain": [
              "<Figure size 432x288 with 1 Axes>"
            ]
          },
          "metadata": {
            "needs_background": "light"
          }
        }
      ]
    },
    {
      "cell_type": "code",
      "metadata": {
        "colab": {
          "base_uri": "https://localhost:8080/",
          "height": 296
        },
        "id": "usi4VxubLzHz",
        "outputId": "75d69e40-9011-4b03-e6a0-a78cb09c43f7"
      },
      "source": [
        "sns.boxplot(x='Year',y='Sales',data=data)"
      ],
      "execution_count": 19,
      "outputs": [
        {
          "output_type": "execute_result",
          "data": {
            "text/plain": [
              "<matplotlib.axes._subplots.AxesSubplot at 0x7f52bdd0ef50>"
            ]
          },
          "metadata": {},
          "execution_count": 19
        },
        {
          "output_type": "display_data",
          "data": {
            "image/png": "[encoded data removed]",
            "text/plain": [
              "<Figure size 432x288 with 1 Axes>"
            ]
          },
          "metadata": {
            "needs_background": "light"
          }
        }
      ]
    },
    {
      "cell_type": "code",
      "metadata": {
        "colab": {
          "base_uri": "https://localhost:8080/",
          "height": 296
        },
        "id": "KaNgyrmzLzH0",
        "outputId": "ba5654fa-3f41-48ab-b3ff-7927034d0058"
      },
      "source": [
        "sns.lineplot(x='Year',y='Sales',data=data)"
      ],
      "execution_count": 20,
      "outputs": [
        {
          "output_type": "execute_result",
          "data": {
            "text/plain": [
              "<matplotlib.axes._subplots.AxesSubplot at 0x7f52bdc04d90>"
            ]
          },
          "metadata": {},
          "execution_count": 20
        },
        {
          "output_type": "display_data",
          "data": {
            "image/png": "[encoded data removed]",
            "text/plain": [
              "<Figure size 432x288 with 1 Axes>"
            ]
          },
          "metadata": {
            "needs_background": "light"
          }
        }
      ]
    },
    {
      "cell_type": "code",
      "metadata": {
        "id": "Kj-4VuQNLzH0"
      },
      "source": [
        "train=data.head(35)\n",
        "test=data.tail(7)"
      ],
      "execution_count": 21,
      "outputs": []
    },
    {
      "cell_type": "markdown",
      "metadata": {
        "id": "o8LyzeZfLzH1"
      },
      "source": [
        "## linear model"
      ]
    },
    {
      "cell_type": "code",
      "metadata": {
        "colab": {
          "base_uri": "https://localhost:8080/"
        },
        "id": "ZA6W1PcTLzH1",
        "outputId": "1435e301-92bc-4b96-f958-934099c98cb3"
      },
      "source": [
        "linear_model = smf.ols('Sales~t',data=train).fit()\n",
        "pred_linear =  pd.Series(linear_model.predict(pd.DataFrame(test['t'])))\n",
        "pred_linear"
      ],
      "execution_count": 22,
      "outputs": [
        {
          "output_type": "execute_result",
          "data": {
            "text/plain": [
              "35    3840.422277\n",
              "36    3904.126945\n",
              "37    3967.831612\n",
              "38    4031.536280\n",
              "39    4095.240948\n",
              "40    4158.945616\n",
              "41    4222.650284\n",
              "dtype: float64"
            ]
          },
          "metadata": {},
          "execution_count": 22
        }
      ]
    },
    {
      "cell_type": "code",
      "metadata": {
        "colab": {
          "base_uri": "https://localhost:8080/"
        },
        "id": "8G9vlxzWLzH2",
        "outputId": "4ad5fcc4-1d97-427f-e2b1-118a9c0010d9"
      },
      "source": [
        "rmse_linear = np.sqrt(np.mean((np.array(test['Sales'])-np.array(pred_linear))**2))\n",
        "rmse_linear"
      ],
      "execution_count": 23,
      "outputs": [
        {
          "output_type": "execute_result",
          "data": {
            "text/plain": [
              "636.5072930351143"
            ]
          },
          "metadata": {},
          "execution_count": 23
        }
      ]
    },
    {
      "cell_type": "markdown",
      "metadata": {
        "id": "lOIhw4EFLzH3"
      },
      "source": [
        "## model for exponential"
      ]
    },
    {
      "cell_type": "code",
      "metadata": {
        "colab": {
          "base_uri": "https://localhost:8080/"
        },
        "id": "jRsxiY4SLzH3",
        "outputId": "5c5e0fa2-e0c3-4ab9-c6b4-d3e817f00cc6"
      },
      "source": [
        "exp_model = smf.ols('log_Sales~t',data=train).fit()\n",
        "pred_exp = pd.Series(exp_model.predict(pd.DataFrame(test['t'])))\n",
        "pred_exp"
      ],
      "execution_count": 24,
      "outputs": [
        {
          "output_type": "execute_result",
          "data": {
            "text/plain": [
              "35    8.280213\n",
              "36    8.303351\n",
              "37    8.326489\n",
              "38    8.349626\n",
              "39    8.372764\n",
              "40    8.395901\n",
              "41    8.419039\n",
              "dtype: float64"
            ]
          },
          "metadata": {},
          "execution_count": 24
        }
      ]
    },
    {
      "cell_type": "code",
      "metadata": {
        "colab": {
          "base_uri": "https://localhost:8080/"
        },
        "id": "bpko7KIgLzH4",
        "outputId": "8256bad4-09fe-4800-aa36-3babc1d0d1b9"
      },
      "source": [
        "rmse_exp = np.sqrt(np.mean((np.array(test['Sales'])-np.array(np.exp(pred_exp)))**2))\n",
        "rmse_exp"
      ],
      "execution_count": 25,
      "outputs": [
        {
          "output_type": "execute_result",
          "data": {
            "text/plain": [
              "493.34864848421216"
            ]
          },
          "metadata": {},
          "execution_count": 25
        }
      ]
    },
    {
      "cell_type": "markdown",
      "metadata": {
        "id": "lvcDtr3hLzH4"
      },
      "source": [
        "## model for quadratic"
      ]
    },
    {
      "cell_type": "code",
      "metadata": {
        "colab": {
          "base_uri": "https://localhost:8080/"
        },
        "id": "okOiEVl-LzH5",
        "outputId": "39ce4062-bd68-489d-887b-9385f0f679a2"
      },
      "source": [
        "quad_model = smf.ols('Sales~t+t_squared',data=train).fit()\n",
        "pred_quad = pd.Series(quad_model.predict(test[[\"t\",\"t_squared\"]]))\n",
        "pred_quad"
      ],
      "execution_count": 26,
      "outputs": [
        {
          "output_type": "execute_result",
          "data": {
            "text/plain": [
              "35    4337.773235\n",
              "36    4484.369729\n",
              "37    4635.446862\n",
              "38    4791.004635\n",
              "39    4951.043047\n",
              "40    5115.562098\n",
              "41    5284.561789\n",
              "dtype: float64"
            ]
          },
          "metadata": {},
          "execution_count": 26
        }
      ]
    },
    {
      "cell_type": "code",
      "metadata": {
        "colab": {
          "base_uri": "https://localhost:8080/"
        },
        "id": "Fr7_BfPeLzH5",
        "outputId": "91b65b0d-c7ad-4e9e-97d4-4fdee8e0d240"
      },
      "source": [
        "rmse_quad = np.sqrt(np.mean((np.array(test['Sales'])-np.array(pred_quad))**2))\n",
        "rmse_quad"
      ],
      "execution_count": 27,
      "outputs": [
        {
          "output_type": "execute_result",
          "data": {
            "text/plain": [
              "511.8117319417314"
            ]
          },
          "metadata": {},
          "execution_count": 27
        }
      ]
    },
    {
      "cell_type": "markdown",
      "metadata": {
        "id": "qJYFnGDVLzH6"
      },
      "source": [
        "## model for additive seasonality"
      ]
    },
    {
      "cell_type": "code",
      "metadata": {
        "colab": {
          "base_uri": "https://localhost:8080/"
        },
        "id": "TonlNS-zLzH6",
        "outputId": "75264d8b-4745-4df5-b48b-abc6088bc85d"
      },
      "source": [
        "add_sea_model = smf.ols('Sales~Q1+Q2+Q3+Q4',data=train).fit()\n",
        "pred_add_sea = pd.Series(add_sea_model.predict(test[['Q1','Q2','Q3','Q4']]))\n",
        "pred_add_sea\n"
      ],
      "execution_count": 28,
      "outputs": [
        {
          "output_type": "execute_result",
          "data": {
            "text/plain": [
              "35    2549.922247\n",
              "36    2319.061332\n",
              "37    2951.555664\n",
              "38    2938.434220\n",
              "39    2549.922247\n",
              "40    2319.061332\n",
              "41    2951.555664\n",
              "dtype: float64"
            ]
          },
          "metadata": {},
          "execution_count": 28
        }
      ]
    },
    {
      "cell_type": "code",
      "metadata": {
        "colab": {
          "base_uri": "https://localhost:8080/"
        },
        "id": "naezZel7LzH7",
        "outputId": "fce6f858-5cef-40ea-de8d-03ca188d16be"
      },
      "source": [
        "rmse_add_sea = np.sqrt(np.mean((np.array(test['Sales'])-np.array(pred_add_sea))**2))\n",
        "rmse_add_sea"
      ],
      "execution_count": 29,
      "outputs": [
        {
          "output_type": "execute_result",
          "data": {
            "text/plain": [
              "1861.8704164251749"
            ]
          },
          "metadata": {},
          "execution_count": 29
        }
      ]
    },
    {
      "cell_type": "markdown",
      "metadata": {
        "id": "3wdKYKINLzH8"
      },
      "source": [
        "## model for additive seasonality quadratic"
      ]
    },
    {
      "cell_type": "code",
      "metadata": {
        "colab": {
          "base_uri": "https://localhost:8080/"
        },
        "id": "d4VTm7SyLzH8",
        "outputId": "690727b5-1be6-4070-dbfc-790948b03495"
      },
      "source": [
        "add_sea_Quad_model = smf.ols('Sales~t+t_squared+Q1+Q2+Q3+Q4',data=train).fit()\n",
        "pred_add_sea_quad = pd.Series(add_sea_Quad_model.predict(test[['t','t_squared','Q1','Q2','Q3','Q4']]))\n",
        "pred_add_sea_quad"
      ],
      "execution_count": 30,
      "outputs": [
        {
          "output_type": "execute_result",
          "data": {
            "text/plain": [
              "35    4197.333511\n",
              "36    4120.453583\n",
              "37    4840.142044\n",
              "38    4914.214728\n",
              "39    4795.942579\n",
              "40    4736.501477\n",
              "41    5473.628762\n",
              "dtype: float64"
            ]
          },
          "metadata": {},
          "execution_count": 30
        }
      ]
    },
    {
      "cell_type": "code",
      "metadata": {
        "colab": {
          "base_uri": "https://localhost:8080/"
        },
        "id": "ZvnBhlOuLzH9",
        "outputId": "f63d7183-fc62-4797-9f45-3d9737d53ca3"
      },
      "source": [
        "rmse_add_sea_quad = np.sqrt(np.mean((np.array(test['Sales'])-np.array(pred_add_sea_quad))**2))\n",
        "rmse_add_sea_quad"
      ],
      "execution_count": 31,
      "outputs": [
        {
          "output_type": "execute_result",
          "data": {
            "text/plain": [
              "309.4641395164242"
            ]
          },
          "metadata": {},
          "execution_count": 31
        }
      ]
    },
    {
      "cell_type": "markdown",
      "metadata": {
        "id": "Z_2lu4cYLzH9"
      },
      "source": [
        "# developing the model of multiplicative  seasonality"
      ]
    },
    {
      "cell_type": "code",
      "metadata": {
        "colab": {
          "base_uri": "https://localhost:8080/"
        },
        "id": "3otP9jRXLzH-",
        "outputId": "8ff414da-0f32-4db0-fbfa-82387373cb5d"
      },
      "source": [
        "mul_sea_model = smf.ols('log_Sales~Q1+Q2+Q3+Q4',data = train).fit()\n",
        "pred_mult_sea = pd.Series(mul_sea_model.predict(test))\n",
        "pred_mult_sea"
      ],
      "execution_count": 32,
      "outputs": [
        {
          "output_type": "execute_result",
          "data": {
            "text/plain": [
              "35    7.823789\n",
              "36    7.716661\n",
              "37    7.958124\n",
              "38    7.951932\n",
              "39    7.823789\n",
              "40    7.716661\n",
              "41    7.958124\n",
              "dtype: float64"
            ]
          },
          "metadata": {},
          "execution_count": 32
        }
      ]
    },
    {
      "cell_type": "code",
      "metadata": {
        "colab": {
          "base_uri": "https://localhost:8080/"
        },
        "id": "NIjB8eQbLzH-",
        "outputId": "7894aeb4-8352-46cc-9a02-8d4d4d010f97"
      },
      "source": [
        "rmse_mult_sea = np.sqrt(np.mean((np.array(test['Sales'])-np.array(np.exp(pred_mult_sea)))**2))\n",
        "rmse_mult_sea"
      ],
      "execution_count": 33,
      "outputs": [
        {
          "output_type": "execute_result",
          "data": {
            "text/plain": [
              "1938.9332351966154"
            ]
          },
          "metadata": {},
          "execution_count": 33
        }
      ]
    },
    {
      "cell_type": "markdown",
      "metadata": {
        "id": "C063x-UULzH_"
      },
      "source": [
        "## model for multiplicative additive seasonality"
      ]
    },
    {
      "cell_type": "code",
      "metadata": {
        "colab": {
          "base_uri": "https://localhost:8080/"
        },
        "id": "HAyCNX34LzH_",
        "outputId": "d5b6bd46-7155-4ab9-aa7e-b96b5d3e0090"
      },
      "source": [
        "mul_add_sea = smf.ols('log_Sales~t+Q1+Q2+Q3+Q4',data = train).fit()\n",
        "pred_mult_add_sea = pd.Series(mul_add_sea.predict(test))\n",
        "pred_mult_add_sea"
      ],
      "execution_count": 34,
      "outputs": [
        {
          "output_type": "execute_result",
          "data": {
            "text/plain": [
              "35    8.231646\n",
              "36    8.169836\n",
              "37    8.411299\n",
              "38    8.405107\n",
              "39    8.322281\n",
              "40    8.260471\n",
              "41    8.501934\n",
              "dtype: float64"
            ]
          },
          "metadata": {},
          "execution_count": 34
        }
      ]
    },
    {
      "cell_type": "code",
      "metadata": {
        "colab": {
          "base_uri": "https://localhost:8080/"
        },
        "id": "WQX0aw81LzH_",
        "outputId": "46527bb1-a7c6-48d6-ef7d-3ad3641d2a99"
      },
      "source": [
        "rmse_mult_add_sea = np.sqrt(np.mean((np.array(test['Sales'])-np.array(np.exp(pred_mult_add_sea)))**2))\n",
        "rmse_mult_add_sea "
      ],
      "execution_count": 35,
      "outputs": [
        {
          "output_type": "execute_result",
          "data": {
            "text/plain": [
              "339.1874666994807"
            ]
          },
          "metadata": {},
          "execution_count": 35
        }
      ]
    },
    {
      "cell_type": "markdown",
      "metadata": {
        "id": "2RREOwsTLzIA"
      },
      "source": [
        "# comparing the above results "
      ]
    },
    {
      "cell_type": "code",
      "metadata": {
        "colab": {
          "base_uri": "https://localhost:8080/",
          "height": 266
        },
        "id": "z5cxkQv2LzIA",
        "outputId": "470a0d4e-eff9-4649-a270-6c422755ad47"
      },
      "source": [
        "data1 = {\"MODEL\":pd.Series([\"rmse_linear\",\"rmse_Exp\",\"rmse_Quad\",\"rmse_add_sea\",\"rmse_add_sea_quad\",\"rmse_Mult_sea\",\"rmse_Mult_add_sea\"]),\"RMSE_Values\":pd.Series([rmse_linear,rmse_exp,rmse_quad,rmse_add_sea,rmse_add_sea_quad,rmse_mult_sea,rmse_mult_add_sea])}\n",
        "table_rmse=pd.DataFrame(data1)\n",
        "table_rmse.sort_values(['RMSE_Values'])"
      ],
      "execution_count": 36,
      "outputs": [
        {
          "output_type": "execute_result",
          "data": {
            "text/html": [
              "<div>\n",
              "<style scoped>\n",
              "    .dataframe tbody tr th:only-of-type {\n",
              "        vertical-align: middle;\n",
              "    }\n",
              "\n",
              "    .dataframe tbody tr th {\n",
              "        vertical-align: top;\n",
              "    }\n",
              "\n",
              "    .dataframe thead th {\n",
              "        text-align: right;\n",
              "    }\n",
              "</style>\n",
              "<table border=\"1\" class=\"dataframe\">\n",
              "  <thead>\n",
              "    <tr style=\"text-align: right;\">\n",
              "      <th></th>\n",
              "      <th>MODEL</th>\n",
              "      <th>RMSE_Values</th>\n",
              "    </tr>\n",
              "  </thead>\n",
              "  <tbody>\n",
              "    <tr>\n",
              "      <th>4</th>\n",
              "      <td>rmse_add_sea_quad</td>\n",
              "      <td>309.464140</td>\n",
              "    </tr>\n",
              "    <tr>\n",
              "      <th>6</th>\n",
              "      <td>rmse_Mult_add_sea</td>\n",
              "      <td>339.187467</td>\n",
              "    </tr>\n",
              "    <tr>\n",
              "      <th>1</th>\n",
              "      <td>rmse_Exp</td>\n",
              "      <td>493.348648</td>\n",
              "    </tr>\n",
              "    <tr>\n",
              "      <th>2</th>\n",
              "      <td>rmse_Quad</td>\n",
              "      <td>511.811732</td>\n",
              "    </tr>\n",
              "    <tr>\n",
              "      <th>0</th>\n",
              "      <td>rmse_linear</td>\n",
              "      <td>636.507293</td>\n",
              "    </tr>\n",
              "    <tr>\n",
              "      <th>3</th>\n",
              "      <td>rmse_add_sea</td>\n",
              "      <td>1861.870416</td>\n",
              "    </tr>\n",
              "    <tr>\n",
              "      <th>5</th>\n",
              "      <td>rmse_Mult_sea</td>\n",
              "      <td>1938.933235</td>\n",
              "    </tr>\n",
              "  </tbody>\n",
              "</table>\n",
              "</div>"
            ],
            "text/plain": [
              "               MODEL  RMSE_Values\n",
              "4  rmse_add_sea_quad   309.464140\n",
              "6  rmse_Mult_add_sea   339.187467\n",
              "1           rmse_Exp   493.348648\n",
              "2          rmse_Quad   511.811732\n",
              "0        rmse_linear   636.507293\n",
              "3       rmse_add_sea  1861.870416\n",
              "5      rmse_Mult_sea  1938.933235"
            ]
          },
          "metadata": {},
          "execution_count": 36
        }
      ]
    },
    {
      "cell_type": "markdown",
      "metadata": {
        "id": "GYwny2B9LzIB"
      },
      "source": [
        "# Developing the model of the additive seasonality quadratic gives the best result"
      ]
    }
  ]
}